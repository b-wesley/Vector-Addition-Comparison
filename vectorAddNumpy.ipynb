{
 "cells": [
  {
   "cell_type": "code",
   "execution_count": 12,
   "metadata": {},
   "outputs": [
    {
     "name": "stdout",
     "output_type": "stream",
     "text": [
      "Average runtime using numpy: 0.21841563970001515 seconds\n",
      "Average runtime using python arrays: 21.85147756470001 seconds\n"
     ]
    }
   ],
   "source": [
    "import numpy as np\n",
    "import random\n",
    "import timeit\n",
    "\n",
    "def vectorAdd(arr1, arr2):\n",
    "    \"\"\"adds two numpy arrays element by element\"\"\"\n",
    "    start = timeit.default_timer()\n",
    "    \n",
    "    if (arr1.size == arr2.size):\n",
    "        return arr1 + arr2\n",
    "    \n",
    "    stop = timeit.default_timer()\n",
    "    #print(\"vectorAdd runtime: \" + str(stop - start) + \" seconds\")\n",
    "        \n",
    "def initArray(length):\n",
    "    \"\"\"create an array of the given length\"\"\"\n",
    "    start = timeit.default_timer()\n",
    "    \n",
    "    arr = np.random.rand(length)\n",
    "        \n",
    "    stop = timeit.default_timer()\n",
    "    #print(\"initArray runtime: \" + str(stop - start) + \" seconds\")\n",
    "    #print(arr)\n",
    "    return arr\n",
    "\n",
    "def addVectorsSlow(vector1, vector2):\n",
    "    \"\"\"if the two vectors are of the same length, adds them and returns the resulting vector,\n",
    "    returns a vector of 0s if they are not the same length\"\"\"\n",
    "    start = timeit.default_timer()\n",
    "    \n",
    "    temp = [0] * len(vector1)\n",
    "    if(len(vector1) == len(vector2)):\n",
    "        for i in range(len(vector1)):\n",
    "            temp[i] = vector1[i]+ vector2[i]\n",
    "            \n",
    "    stop = timeit.default_timer()\n",
    "    #print(\"addVectorsSlow runtime: \" + str(stop - start) + \" seconds\")\n",
    "    return temp\n",
    "\n",
    "def initArraySlow(length):\n",
    "    \"\"\"initialize array using default python arrays (not fast)\"\"\"\n",
    "    start = timeit.default_timer()\n",
    "    \n",
    "    arr = [0] * length\n",
    "    for i in range(0, length):\n",
    "        arr[i] = random.randint(0, length)\n",
    "    return arr\n",
    "\n",
    "    stop = timeit.default_timer()\n",
    "    #print(\"initArraySlow runtime: \" + str(stop - start) + \" seconds\")\n",
    "\n",
    "def compareRuntimes():\n",
    "    \"\"\"compare the average runtimes of adding 2 vectors using numpy and python arrays using\n",
    "    arrays of 10,000,000 elements, averaging the result of running each process 10 times\"\"\"\n",
    "    startQuick = timeit.default_timer()\n",
    "    \n",
    "    for i in range(0,10):\n",
    "        arr1 = initArray(10000000)\n",
    "        arr2 = initArray(10000000)\n",
    "        vectorAdd(arr1, arr2)\n",
    "        \n",
    "    stopQuick = timeit.default_timer()\n",
    "    \n",
    "    runtimeQuick = (stopQuick - startQuick) / 10.0\n",
    "    print(\"Average runtime using numpy: \" + str(runtimeQuick) + \" seconds\")\n",
    "    \n",
    "    startSlow = timeit.default_timer()\n",
    "    for i in range(0, 10):\n",
    "        arr1 = initArraySlow(10000000)\n",
    "        arr2 = initArraySlow(10000000)\n",
    "        addVectorsSlow(arr1, arr2)\n",
    "    \n",
    "    stopSlow = timeit.default_timer()\n",
    "    \n",
    "    runtimeSlow = (stopSlow - startSlow) / 10.0\n",
    "    print(\"Average runtime using python arrays: \" + str(runtimeSlow) +\" seconds\")\n",
    "\n",
    "compareRuntimes()\n"
   ]
  },
  {
   "cell_type": "code",
   "execution_count": null,
   "metadata": {},
   "outputs": [],
   "source": []
  }
 ],
 "metadata": {
  "kernelspec": {
   "display_name": "Python 3",
   "language": "python",
   "name": "python3"
  },
  "language_info": {
   "codemirror_mode": {
    "name": "ipython",
    "version": 3
   },
   "file_extension": ".py",
   "mimetype": "text/x-python",
   "name": "python",
   "nbconvert_exporter": "python",
   "pygments_lexer": "ipython3",
   "version": "3.7.3"
  }
 },
 "nbformat": 4,
 "nbformat_minor": 2
}
